{
 "cells": [
  {
   "cell_type": "markdown",
   "id": "430a86f2",
   "metadata": {},
   "source": [
    "<h1>Tradução de DNA em RNA</h1>\n",
    "<h4>Esse é um exercicio pratico e um estudo de caso feito com o curso <b>Using Python for Research</b> disponibilizado pela HarvardX</h4>\n",
    "<p>Através de arquivos da NCBI(National Center for Biotechnology Information) foi disponibilizado uma sequencia de DNA, um dicionário com as equivalencias para que a tradução seja possivel e a própria tradução para fim de comparação.</p>"
   ]
  },
  {
   "cell_type": "markdown",
   "id": "a22166f3",
   "metadata": {},
   "source": [
    "<h2>A criação da função 'read_seq' e a visualização de cada arquivo</h2>\n",
    "<p>Foi criada a função 'read_seq' para facilitar a leitura de cada arquivo de texto. Ela tem como parametro o nome ou o diretorio do arquivo, em seguida o arquivo é aberto para leitura como 'f', por ultimo os caracteres especiais são removidos e é retornado o conteudo.</p>\n",
    "<p>A sequencia do DNA que estava localizada no arquivo 'DNA.txt', através da função 'read_seq', foi passada para a variável 'dna' e o mesmo foi feito para a tradução que estava em 'RNA.txt', porém, este foi para a variável 'prt'.</p>"
   ]
  },
  {
   "cell_type": "code",
   "execution_count": null,
   "id": "cc5aaaf0",
   "metadata": {},
   "outputs": [],
   "source": [
    "inputfile = \"DNA.txt\"\n",
    "def read_seq(inputfile):\n",
    "    with open(inputfile, \"r\") as f:\n",
    "        seq = f.read()\n",
    "    seq = seq.replace(\"\\r\", \"\")\n",
    "    seq = seq.replace(\"\\n\", \"\")\n",
    "    return seq\n",
    "\n",
    "dna = read_seq(inputfile)\n",
    "prt = read_seq(\"RNA.txt\")\n"
   ]
  },
  {
   "cell_type": "markdown",
   "id": "b5aa6419",
   "metadata": {},
   "source": [
    "<h2>A crição da função 'translate' e tradução do DNA em RNA</h2>\n",
    "<p>Através da função 'translate' o arquivo contendo a sequencia do DNA que foi aberto na variável 'dna' foi traduzido. O dicionario 'table' contem a equivalencia para cada sequencia de 3 dentro do DNA.</p>"
   ]
  },
  {
   "cell_type": "code",
   "execution_count": 27,
   "id": "67f1c0d6",
   "metadata": {},
   "outputs": [
    {
     "data": {
      "text/plain": [
       "'MSTHDTSLKTTEEVAFQIILLCQFGVGTFANVFLFVYNFSPISTGSKQRPRQVILRHMAVANALTLFLTIFPNNMMTFAPIIPQTDLKCKLEFFTRLVARSTNLCSTCVLSIHQFVTLVPVNSGKGILRASVTNMASYSCYSCWFFSVLNNIYIPIKVTGPQLTDNNNNSKSKLFCSTSDFSVGIVFLRFAHDATFMSIMVWTSVSMVLLLHRHCQRMQYIFTLNQDPRGQAETTATHTILMLVVTFVGFYLLSLICIIFYTYFIYSHHSLRHCNDILVSGFPTISPLLLTFRDPKGPCSVFFNC'"
      ]
     },
     "execution_count": 27,
     "metadata": {},
     "output_type": "execute_result"
    }
   ],
   "source": [
    "def translate(seq): \n",
    "    protein = \"\"\n",
    "    table = {\n",
    "        'ATA':'I', 'ATC':'I', 'ATT':'I', 'ATG':'M',\n",
    "        'ACA':'T', 'ACC':'T', 'ACG':'T', 'ACT':'T',\n",
    "        'AAC':'N', 'AAT':'N', 'AAA':'K', 'AAG':'K',\n",
    "        'AGC':'S', 'AGT':'S', 'AGA':'R', 'AGG':'R',\n",
    "        'CTA':'L', 'CTC':'L', 'CTG':'L', 'CTT':'L',\n",
    "        'CCA':'P', 'CCC':'P', 'CCG':'P', 'CCT':'P',\n",
    "        'CAC':'H', 'CAT':'H', 'CAA':'Q', 'CAG':'Q',\n",
    "        'CGA':'R', 'CGC':'R', 'CGG':'R', 'CGT':'R',\n",
    "        'GTA':'V', 'GTC':'V', 'GTG':'V', 'GTT':'V',\n",
    "        'GCA':'A', 'GCC':'A', 'GCG':'A', 'GCT':'A',\n",
    "        'GAC':'D', 'GAT':'D', 'GAA':'E', 'GAG':'E',\n",
    "        'GGA':'G', 'GGC':'G', 'GGG':'G', 'GGT':'G',\n",
    "        'TCA':'S', 'TCC':'S', 'TCG':'S', 'TCT':'S',\n",
    "        'TTC':'F', 'TTT':'F', 'TTA':'L', 'TTG':'L',\n",
    "        'TAC':'Y', 'TAT':'Y', 'TAA':'_', 'TAG':'_',\n",
    "        'TGC':'C', 'TGT':'C', 'TGA':'_', 'TGG':'W',\n",
    "    }\n",
    "\n",
    "    if len(seq) % 3 == 0:\n",
    "        for i in range(0, len(seq), 3):\n",
    "            codon = seq[i : i+3]\n",
    "            protein += table[codon]\n",
    "    \n",
    "    return protein\n",
    "\n",
    "translate(dna[20:935])"
   ]
  },
  {
   "cell_type": "markdown",
   "id": "936d7c8f",
   "metadata": {},
   "source": [
    "<h2>Comparação da tradução com o arquivo disponibilizado pelo NCBI</h2>\n",
    "<p>O arquivo da tradução da sequencia de DNA foi aberto na variável 'prt' através da função 'read_seq'</p>"
   ]
  },
  {
   "cell_type": "code",
   "execution_count": null,
   "id": "da748496",
   "metadata": {},
   "outputs": [],
   "source": [
    "translate(dna[20:935]) == prt"
   ]
  }
 ],
 "metadata": {
  "kernelspec": {
   "display_name": "Python 3",
   "language": "python",
   "name": "python3"
  },
  "language_info": {
   "codemirror_mode": {
    "name": "ipython",
    "version": 3
   },
   "file_extension": ".py",
   "mimetype": "text/x-python",
   "name": "python",
   "nbconvert_exporter": "python",
   "pygments_lexer": "ipython3",
   "version": "3.8.8"
  }
 },
 "nbformat": 4,
 "nbformat_minor": 5
}
