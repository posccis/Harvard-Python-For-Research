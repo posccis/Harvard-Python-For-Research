{
 "cells": [
  {
   "cell_type": "code",
   "execution_count": 52,
   "id": "9ed37de9",
   "metadata": {},
   "outputs": [],
   "source": [
    "text = \"A finalização de Kalyl Silva foi elogiada por Charles 'Do Bronxs' Oliveira, atual campeão do peso-leve do UFC, comparando-a com os golpes de Anderson Silva\"\n",
    "def count_word(text):\n",
    "    word_count = {}\n",
    "    text = text.lower()\n",
    "    for skip in [\".\", \",\", \";\", \"'\", '\"']:\n",
    "        text = text.replace(skip, \"\")\n",
    "        \n",
    "        \n",
    "    for word in text.split(\" \"):\n",
    "        if word.lower() in word_count:\n",
    "            word_count[word.lower()] += 1\n",
    "            \n",
    "        else:\n",
    "            word_count[word.lower()] = 1\n",
    "    return word_count\n",
    "\n"
   ]
  },
  {
   "cell_type": "code",
   "execution_count": 55,
   "id": "0b14205c",
   "metadata": {},
   "outputs": [],
   "source": [
    "from collections import Counter\n",
    "\n",
    "\n",
    "\n",
    "def count_word_fast(text):\n",
    "    text = text.lower()\n",
    "    word_count = {}\n",
    "    listo = [\".\", \",\", \";\", \"'\", '\"', \":\"]\n",
    "    for skip in listo:\n",
    "        text = text.replace(skip, \"\")\n",
    "        \n",
    "        \n",
    "    word_count = Counter(text.split(\" \"))\n",
    "    return word_count\n",
    "\n"
   ]
  },
  {
   "cell_type": "code",
   "execution_count": 50,
   "id": "052631d2",
   "metadata": {},
   "outputs": [],
   "source": [
    "\n",
    "\n",
    "def read_book(title_path):\n",
    "    with open(title_path, \"r\", encoding = \"utf8\") as current_file:\n",
    "        text = current_file.read()\n",
    "        text = text.replace(\"\\n\", \"\").replace(\"\\r\", \"\")\n",
    "    return text\n",
    "\n",
    "\n"
   ]
  },
  {
   "cell_type": "code",
   "execution_count": 48,
   "id": "80cd69e4",
   "metadata": {},
   "outputs": [
    {
     "data": {
      "text/plain": [
       "5118"
      ]
     },
     "execution_count": 48,
     "metadata": {},
     "output_type": "execute_result"
    }
   ],
   "source": [
    "def word_stats(word_count):\n",
    "    num_unique = len(word_count)\n",
    "    counts = word_count.values()\n",
    "    return (num_unique, counts)\n",
    "\n",
    "\n",
    "text = read_book(\"./Books/English/shakespeare/Romeo and Juliet.txt\")\n",
    "word_count = count_word_fast(text)\n",
    "(num_unique, counts) = word_stats(word_count)\n",
    "num_unique"
   ]
  },
  {
   "cell_type": "code",
   "execution_count": 56,
   "id": "4595eae5",
   "metadata": {},
   "outputs": [
    {
     "name": "stdout",
     "output_type": "stream",
     "text": [
      "./Books/English/shakespeare/A Midsummer Night's Dream.txt\n",
      "./Books/English/shakespeare/Hamlet.txt\n",
      "./Books/English/shakespeare/Macbeth.txt\n",
      "./Books/English/shakespeare/Othello.txt\n",
      "./Books/English/shakespeare/Richard III.txt\n",
      "./Books/English/shakespeare/Romeo and Juliet.txt\n",
      "./Books/English/shakespeare/The Merchant of Venice.txt\n",
      "./Books/French/chevalier/L'enfer et le paradis de l'autre monde.txt\n",
      "./Books/French/chevalier/L'åle de sable.txt\n",
      "./Books/French/chevalier/La capitaine.txt\n",
      "./Books/French/chevalier/La fille des indiens rouges.txt\n",
      "./Books/French/chevalier/La fille du pirate.txt\n",
      "./Books/French/chevalier/Le chasseur noir.txt\n",
      "./Books/French/chevalier/Les derniers Iroquois.txt\n",
      "./Books/French/de Maupassant/Boule de Suif.txt\n",
      "./Books/French/de Maupassant/Claire de Lune.txt\n",
      "./Books/French/de Maupassant/Contes de la Becasse.txt\n",
      "./Books/French/de Maupassant/L'inutile beautÇ.txt\n",
      "./Books/French/de Maupassant/La Main Gauche.txt\n",
      "./Books/French/de Maupassant/La Maison Tellier.txt\n",
      "./Books/French/de Maupassant/La petite roque.txt\n",
      "./Books/French/de Maupassant/Le Horla.txt\n",
      "./Books/French/de Maupassant/Œuvres complètes de Guy de Maupassant.txt\n",
      "./Books/French/diderot/Ceci n'est pas un conte.txt\n",
      "./Books/French/diderot/Entretien d'un päre avec ses enfants.txt\n",
      "./Books/French/diderot/L'oiseau blanc.txt\n",
      "./Books/French/diderot/Les deux amis de Bourbonne.txt\n",
      "./Books/French/diderot/Regrets sur ma vieille robe de chambre.txt\n",
      "./Books/French/sand/cora.txt\n",
      "./Books/French/sand/Jacques le fataliste et son maåtre.txt\n",
      "./Books/French/sand/L' Orco.txt\n",
      "./Books/French/sand/La Coupe; Lupo Liverani; Le Toast; Garnier; Le Contrebandier; La Ràverie Ö Paris.txt\n",
      "./Books/French/sand/La Marquise.txt\n",
      "./Books/French/sand/Le Piccinino.txt\n",
      "./Books/French/sand/Le poâme de Myrza.txt\n",
      "./Books/French/sand/Mattea.txt\n",
      "./Books/French/sand/Metella.txt\n",
      "./Books/French/sand/Oeuvres illustrÇes de George Sand.txt\n",
      "./Books/French/sand/Pauline.txt\n",
      "./Books/German/lessing/der freigeist.txt\n",
      "./Books/German/lessing/der junge gelehrte.txt\n",
      "./Books/German/lessing/die juden.txt\n",
      "./Books/German/lessing/emilia galotti.txt\n",
      "./Books/German/lessing/hamburgische dramaturgie.txt\n",
      "./Books/German/lessing/minna von barnhelm.txt\n",
      "./Books/German/lessing/miss sara sampson.txt\n",
      "./Books/German/lessing/philotas.txt\n",
      "./Books/German/raimund/Das MÑdchen aus der Feenwelt.txt\n",
      "./Books/German/raimund/Der Alpenkînig und der Menschenfeind.txt\n",
      "./Books/German/raimund/Der Barometermacher auf der Zauberinsel.txt\n",
      "./Books/German/raimund/Der Diamant des Geisterkînigs.txt\n",
      "./Books/German/raimund/Der Verschwender.txt\n",
      "./Books/German/raimund/Die gefesselte Phantasie.txt\n",
      "./Books/German/raimund/Die unheilbringende Krone.txt\n",
      "./Books/German/raimund/Moisasurs Zauberfluch.txt\n",
      "./Books/German/schiller/Der Neffe als Onkel.txt\n",
      "./Books/German/schiller/Der Parasit, oder die Kunst, sein GlÅck zu machen.txt\n",
      "./Books/German/schiller/die braut von messina.txt\n",
      "./Books/German/schiller/Die Huldigung der KÅnste.txt\n",
      "./Books/German/schiller/Die Jungfrau von Orleans.txt\n",
      "./Books/German/schiller/Die Piccolomini.txt\n",
      "./Books/German/schiller/Die Verschwîrung des Fiesco zu Genua.txt\n",
      "./Books/German/schiller/Kabale und Liebe.txt\n",
      "./Books/German/schiller/Turandot, Prinzessin von China.txt\n",
      "./Books/German/schiller/Wallensteins Lager.txt\n",
      "./Books/German/schiller/Wallensteins Tod.txt\n",
      "./Books/German/shakespeare/Der Kaufmann von Venedig.txt\n",
      "./Books/German/shakespeare/Ein Sommernachtstraum.txt\n",
      "./Books/German/shakespeare/Hamlet.txt\n",
      "./Books/German/shakespeare/Macbeth.txt\n",
      "./Books/German/shakespeare/Othello.txt\n",
      "./Books/German/shakespeare/Richard III.txt\n",
      "./Books/German/shakespeare/Romeo und Julia.txt\n",
      "./Books/Portuguese/branco/A Filha do Arcediago.txt\n",
      "./Books/Portuguese/branco/A Neta do Arcediago.txt\n",
      "./Books/Portuguese/branco/A Queda d'um Anjo.txt\n",
      "./Books/Portuguese/branco/Agulha em Palheiro.txt\n",
      "./Books/Portuguese/branco/Amor de Perdição.txt\n",
      "./Books/Portuguese/branco/Amor de Salvação.txt\n",
      "./Books/Portuguese/branco/Annos de Prosa.txt\n",
      "./Books/Portuguese/branco/Carlota Angela.txt\n",
      "./Books/Portuguese/branco/Estrellas Funestas.txt\n",
      "./Books/Portuguese/branco/Estrellas Prop°cias.txt\n",
      "./Books/Portuguese/branco/Lagrimas Abenáoadas.txt\n",
      "./Books/Portuguese/branco/Livro de Consolação.txt\n",
      "./Books/Portuguese/branco/O Olho de Vidro.txt\n",
      "./Books/Portuguese/branco/O que fazem mulheres.txt\n",
      "./Books/Portuguese/branco/O Regicida.txt\n",
      "./Books/Portuguese/branco/Scenas Contemporaneas.txt\n",
      "./Books/Portuguese/dinis/A Morgadinha dos Cannaviaes.txt\n",
      "./Books/Portuguese/dinis/Os fidalgos da Casa Mourisca.txt\n",
      "./Books/Portuguese/dinis/Uma fam°lia ingleza.txt\n",
      "./Books/Portuguese/Queir¢s/A Cidade e as Serras.txt\n",
      "./Books/Portuguese/Queir¢s/A correspondància de Fradique Mendes.txt\n",
      "./Books/Portuguese/Queir¢s/A Illustre Casa de Ramires.txt\n",
      "./Books/Portuguese/Queir¢s/A Rel°quia.txt\n",
      "./Books/Portuguese/Queir¢s/Cartas de Inglaterra.txt\n",
      "./Books/Portuguese/Queir¢s/O crime do padre Amaro.txt\n",
      "./Books/Portuguese/Queir¢s/O Mandarim.txt\n",
      "./Books/Portuguese/Queir¢s/O Primo Bazilio.txt\n",
      "./Books/Portuguese/Queir¢s/Os Maias.txt\n",
      "./Books/Portuguese/shakespeare/Hamlet.txt\n"
     ]
    }
   ],
   "source": [
    "import os\n",
    "book_dir = \"./Books\"\n",
    "for language in os.listdir(book_dir):\n",
    "    for author in os.listdir(book_dir + \"/\" + language):\n",
    "        for title in os.listdir(book_dir + \"/\" + language + \"/\" + author):\n",
    "            inputfile = book_dir + \"/\" + language + \"/\" + author + \"/\" + title\n",
    "            print(inputfile)\n",
    "            text =  read_book(inputfile)\n",
    "            (num_unique, counts) = word_stats(count_word(text))"
   ]
  },
  {
   "cell_type": "code",
   "execution_count": 57,
   "id": "5714e441",
   "metadata": {},
   "outputs": [],
   "source": [
    "import pandas as pd\n"
   ]
  },
  {
   "cell_type": "code",
   "execution_count": null,
   "id": "938d188e",
   "metadata": {},
   "outputs": [],
   "source": []
  }
 ],
 "metadata": {
  "kernelspec": {
   "display_name": "Python 3",
   "language": "python",
   "name": "python3"
  },
  "language_info": {
   "codemirror_mode": {
    "name": "ipython",
    "version": 3
   },
   "file_extension": ".py",
   "mimetype": "text/x-python",
   "name": "python",
   "nbconvert_exporter": "python",
   "pygments_lexer": "ipython3",
   "version": "3.8.8"
  }
 },
 "nbformat": 4,
 "nbformat_minor": 5
}
