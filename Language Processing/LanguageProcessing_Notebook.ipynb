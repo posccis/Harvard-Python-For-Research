{
 "cells": [
  {
   "cell_type": "markdown",
   "id": "442b7655",
   "metadata": {},
   "source": [
    "<h1>Language Processing</h1>\n",
    "<p>Case Study 2 - Prática de análise de dados feita com o curso Python for Research.</p>\n",
    "<p>Graças ao <b>Project Gutenberg</b>(além de ser a biblioteca digital mais antiga do mundo, é um projeto com o objetivo de conservar diversos conteúdos digitais que são de dominio publico) foi possivel ter acesso a 102 livros nas linguas Inglês, Francês, Alemão e Português de diversos autores. E com esses livros fizemos nossas práticas de limpeza de dados e visualização de dados.</p>"
   ]
  },
  {
   "cell_type": "markdown",
   "id": "a9e468f9",
   "metadata": {},
   "source": [
    "<h3>Função 'count_word'</h3>\n",
    "<p>Função criada para contar a quantidade de palavras individuais que tem no livro e a quatidade de vezes em que elas são repetidas.</p>\n",
    "<p>Amarzenado cada uma e suas quantidades em um dicionario. E, antes disso, remove no texto os sinais que não devem ser contados como palavras.</p>"
   ]
  },
  {
   "cell_type": "code",
   "execution_count": 2,
   "id": "9ed37de9",
   "metadata": {},
   "outputs": [],
   "source": [
    "\n",
    "def count_word(text):\n",
    "    word_count = {}\n",
    "    text = text.lower()\n",
    "    for skip in [\".\", \",\", \";\", \"'\", '\"']:\n",
    "        text = text.replace(skip, \"\")\n",
    "        \n",
    "        \n",
    "    for word in text.split(\" \"):\n",
    "        if word.lower() in word_count:\n",
    "            word_count[word.lower()] += 1\n",
    "            \n",
    "        else:\n",
    "            word_count[word.lower()] = 1\n",
    "    return word_count\n",
    "\n"
   ]
  },
  {
   "cell_type": "markdown",
   "id": "8b4d891b",
   "metadata": {},
   "source": [
    "<h2>Importando as bibliotecas necessárias e uma segunda versão da função 'count_word'</h2>\n",
    "<p>Foram importadas as bibliotecas Collections, Pandas e MatPlotLib.</p>\n",
    "<p>Através da função Counter foi desenvolvida uma função menos \"verbosa\" e mais rápida.</p>\n"
   ]
  },
  {
   "cell_type": "code",
   "execution_count": 25,
   "id": "0b14205c",
   "metadata": {},
   "outputs": [],
   "source": [
    "from collections import Counter\n",
    "import pandas as pd\n",
    "import matplotlib.pyplot as plt\n",
    "\n",
    "\n",
    "def count_word_fast(text):\n",
    "    text = text.lower()\n",
    "    word_count = {}\n",
    "    listo = [\".\", \",\", \";\", \"'\", '\"', \":\"]\n",
    "    for skip in listo:\n",
    "        text = text.replace(skip, \"\")\n",
    "        \n",
    "        \n",
    "    word_count = Counter(text.split(\" \"))\n",
    "    return word_count\n",
    "\n"
   ]
  },
  {
   "cell_type": "markdown",
   "id": "62e9b84a",
   "metadata": {},
   "source": [
    "<h2>Criação da função 'read_book'</h2>\n",
    "<p>A função tem como único parâmetro o path do livro. Após receber o path ela abre o arquivo de texto para ser lido pelo algoritmo e remove os \"\\n\" e \"\\r\" do arquivo.</p>"
   ]
  },
  {
   "cell_type": "code",
   "execution_count": 5,
   "id": "052631d2",
   "metadata": {},
   "outputs": [],
   "source": [
    "\n",
    "\n",
    "def read_book(title_path):\n",
    "    with open(title_path, \"r\", encoding = \"utf8\") as current_file:\n",
    "        text = current_file.read()\n",
    "        text = text.replace(\"\\n\", \"\").replace(\"\\r\", \"\")\n",
    "    return text\n",
    "\n",
    "\n"
   ]
  },
  {
   "cell_type": "markdown",
   "id": "cf2162df",
   "metadata": {},
   "source": [
    "<h2>Função 'word_stats'</h2>\n",
    "<p>A função recebe o dicionário criado pela outra função 'word_count' e devolve os dados desse dicionário, como, quantidade de palavras e uma lista com os valores</p>"
   ]
  },
  {
   "cell_type": "code",
   "execution_count": 50,
   "id": "80cd69e4",
   "metadata": {},
   "outputs": [],
   "source": [
    "def word_stats(word_count):\n",
    "    num_unique = len(word_count)\n",
    "    counts = word_count.values()\n",
    "    return (num_unique, counts)\n",
    "\n",
    "\n"
   ]
  },
  {
   "cell_type": "markdown",
   "id": "f94049fa",
   "metadata": {},
   "source": [
    "<h2>Criação da função 'stats' e importação da biblioteca 'OS'</h2>\n",
    "<p>Apenas recebendo o nome da pasta onde estão todos os livros, a função 'stats', utilizando a biblioteca 'os' para listar cada item que está dentro das outras pastas, consegue formar um path para cada livro(na variável \"inputfile\"). Esse path é passado para função 'read_book' que, na variável 'text', vai armazenar o texto do livro já limpo e, em seguida, passa o texto para a função 'count_word' que vai passar o seu retorno, ou seja, o dicionário para a função word_stats que irá armazenar o seu retorno nas variaveis 'num_unique' e 'counts'(numero de palavras unicas e quantas vezes são repetidas).</p>\n",
    "<p>Antes dos 3 for loops que geram o path foi criada uma tabela com 5 colunas utilizando a biblioteca 'Pandas' e sua função 'DataFrame'. Ao fim do ultimo for loop é preenchida com cada um dos dados de cada livro e retornada.</p>"
   ]
  },
  {
   "cell_type": "code",
   "execution_count": 38,
   "id": "4595eae5",
   "metadata": {
    "scrolled": true
   },
   "outputs": [],
   "source": [
    "import os\n",
    "book_dir = \"./Books\"\n",
    "def stats(path):\n",
    "    i = 0\n",
    "    stats = pd.DataFrame(columns = (\"Title\", \"Author\", \"Language\", \"Length\", \"Uniques\"))\n",
    "    for language in os.listdir(book_dir):\n",
    "        for author in os.listdir(book_dir + \"/\" + language):\n",
    "            for title in os.listdir(book_dir + \"/\" + language + \"/\" + author):\n",
    "                inputfile = book_dir + \"/\" + language + \"/\" + author + \"/\" + title\n",
    "                \n",
    "                text =  read_book(inputfile)\n",
    "                (num_unique, counts) = word_stats(count_word(text))\n",
    "                i += 1\n",
    "                \n",
    "                stats.loc[i] = title.replace(\".txt\", \"\"), author.capitalize(), language, len(text), num_unique\n",
    "               \n",
    "    return stats\n",
    "\n",
    "status = stats(book_dir)\n",
    "                "
   ]
  },
  {
   "cell_type": "markdown",
   "id": "46d5e42e",
   "metadata": {},
   "source": [
    "<h2>Criação do gráfico utilizando a biblioteca MatPlotLib.Pyplot</h2>\n",
    "<p>Aqui foi gerado um gráfico onde é exibido, por quantidade de palavras, qual livro e de qual lingua possui a maior quantidade de palavras individuais.</p>"
   ]
  },
  {
   "cell_type": "code",
   "execution_count": 48,
   "id": "5714e441",
   "metadata": {},
   "outputs": [
    {
     "data": {
      "image/png": "[encoded data removed]",
      "text/plain": [
       "<Figure size 720x720 with 1 Axes>"
      ]
     },
     "metadata": {
      "needs_background": "light"
     },
     "output_type": "display_data"
    }
   ],
   "source": [
    "plt.figure(figsize = (10, 10))\n",
    "subset = status[status.Language == \"English\"]\n",
    "plt.loglog(subset.Length, subset.Uniques, \"o\", label = \"English\", color = \"crimson\")\n",
    "\n",
    "subset = status[status.Language == \"French\"]\n",
    "plt.loglog(subset.Length, subset.Uniques, \"o\", label = \"French\", color = \"forestgreen\")\n",
    "\n",
    "subset = status[status.Language == \"German\"]\n",
    "plt.loglog(subset.Length, subset.Uniques, \"o\", label = \"German\", color = \"orange\")\n",
    "\n",
    "subset = status[status.Language == \"Portuguese\"]\n",
    "plt.loglog(subset.Length, subset.Uniques, \"o\", label = \"Portuguese\", color = \"blue\")\n",
    "\n",
    "plt.legend()\n",
    "plt.xlabel(\"Book length\")\n",
    "plt.ylabel(\"Number of unique words\")\n",
    "plt.savefig(\"LanguageProcess.jpeg\")"
   ]
  },
  {
   "cell_type": "code",
   "execution_count": null,
   "id": "938d188e",
   "metadata": {},
   "outputs": [],
   "source": []
  }
 ],
 "metadata": {
  "kernelspec": {
   "display_name": "Python 3",
   "language": "python",
   "name": "python3"
  },
  "language_info": {
   "codemirror_mode": {
    "name": "ipython",
    "version": 3
   },
   "file_extension": ".py",
   "mimetype": "text/x-python",
   "name": "python",
   "nbconvert_exporter": "python",
   "pygments_lexer": "ipython3",
   "version": "3.8.8"
  }
 },
 "nbformat": 4,
 "nbformat_minor": 5
}
